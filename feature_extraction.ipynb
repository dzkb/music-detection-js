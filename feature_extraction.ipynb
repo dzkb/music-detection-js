{
 "cells": [
  {
   "cell_type": "markdown",
   "metadata": {},
   "source": [
    "# Junior Senior #1 - music detection\n",
    "## Feature extraction"
   ]
  },
  {
   "cell_type": "code",
   "execution_count": 114,
   "metadata": {
    "executionInfo": {
     "elapsed": 604,
     "status": "ok",
     "timestamp": 1604149513124,
     "user": {
      "displayName": "Jakub Cwynar",
      "photoUrl": "https://lh3.googleusercontent.com/a-/AOh14Ggoa3XrpuslwkUMGTN7bVT8VQuLByrszVQkXa_v9A=s64",
      "userId": "05827811772710046588"
     },
     "user_tz": -60
    },
    "id": "je8atUFyuQ9y"
   },
   "outputs": [],
   "source": [
    "import os\n",
    "import json\n",
    "\n",
    "from pathlib import Path\n",
    "\n",
    "import librosa\n",
    "import pandas as pd\n",
    "import numpy as np\n",
    "import tensorflow as tf"
   ]
  },
  {
   "cell_type": "code",
   "execution_count": 115,
   "metadata": {
    "executionInfo": {
     "elapsed": 609,
     "status": "ok",
     "timestamp": 1604149086861,
     "user": {
      "displayName": "Jakub Cwynar",
      "photoUrl": "https://lh3.googleusercontent.com/a-/AOh14Ggoa3XrpuslwkUMGTN7bVT8VQuLByrszVQkXa_v9A=s64",
      "userId": "05827811772710046588"
     },
     "user_tz": -60
    },
    "id": "eQE3qWLuuQ94"
   },
   "outputs": [],
   "source": [
    "data_root = \"./data/source/\"\n",
    "\n",
    "dirs = os.listdir(data_root)\n",
    "\n",
    "data_files = {\n",
    "    class_: os.listdir(Path(data_root, class_)) for class_ in dirs\n",
    "}\n",
    "\n",
    "data_contents = {\n",
    "    k: [] for k in data_files.keys()\n",
    "}"
   ]
  },
  {
   "cell_type": "code",
   "execution_count": null,
   "metadata": {
    "executionInfo": {
     "elapsed": 11525,
     "status": "ok",
     "timestamp": 1604149200478,
     "user": {
      "displayName": "Jakub Cwynar",
      "photoUrl": "https://lh3.googleusercontent.com/a-/AOh14Ggoa3XrpuslwkUMGTN7bVT8VQuLByrszVQkXa_v9A=s64",
      "userId": "05827811772710046588"
     },
     "user_tz": -60
    },
    "id": "-XsHhil4uQ96"
   },
   "outputs": [],
   "source": [
    "dataset = {\n",
    "    \"class\": [],\n",
    "    \"filename\": [],\n",
    "    \"chunk\": [],\n",
    "    \"y\": [],\n",
    "    \"sr\": []\n",
    "}\n",
    "\n",
    "def split_by_seconds(dataset, root, file):\n",
    "    class_ = root.split(\"/\")[-1]\n",
    "    y, sr = librosa.load(Path(root, file))\n",
    "    \n",
    "    n_seconds = int(y.shape[0] // sr)\n",
    "    for i in range(n_seconds):\n",
    "        y_sample = y[i * sr : (i+1) * sr]\n",
    "        dataset[\"class\"].append(1 if class_ == \"muzyka\" else 0)\n",
    "        dataset[\"filename\"].append(file)\n",
    "        dataset[\"chunk\"].append(i)\n",
    "        dataset[\"y\"].append(y_sample)\n",
    "        dataset[\"sr\"].append(sr)\n",
    "\n",
    "for root, dirs, files in os.walk(data_root):\n",
    "    for file in files:\n",
    "        split_by_seconds(dataset, root, file)\n",
    "        \n",
    "df_dataset = pd.DataFrame(dataset)"
   ]
  },
  {
   "cell_type": "code",
   "execution_count": 117,
   "metadata": {
    "executionInfo": {
     "elapsed": 2115,
     "status": "ok",
     "timestamp": 1604149308251,
     "user": {
      "displayName": "Jakub Cwynar",
      "photoUrl": "https://lh3.googleusercontent.com/a-/AOh14Ggoa3XrpuslwkUMGTN7bVT8VQuLByrszVQkXa_v9A=s64",
      "userId": "05827811772710046588"
     },
     "user_tz": -60
    },
    "id": "Wh45KTaruQ99"
   },
   "outputs": [],
   "source": [
    "def extract_mfcc(row):\n",
    "    return list(librosa.feature.mfcc(y=row[\"y\"], sr=row[\"sr\"]).flatten())\n",
    "\n",
    "def extract_rmse(row):\n",
    "    return librosa.feature.rms(y=row[\"y\"])\n",
    "\n",
    "df_dataset[\"mfcc\"] = df_dataset.apply(extract_mfcc, axis=1)\n",
    "df_dataset[\"rms\"] = df_dataset.apply(extract_rmse, axis=1)"
   ]
  },
  {
   "cell_type": "code",
   "execution_count": 126,
   "metadata": {
    "colab": {
     "base_uri": "https://localhost:8080/",
     "height": 637
    },
    "executionInfo": {
     "elapsed": 788,
     "status": "ok",
     "timestamp": 1604149309069,
     "user": {
      "displayName": "Jakub Cwynar",
      "photoUrl": "https://lh3.googleusercontent.com/a-/AOh14Ggoa3XrpuslwkUMGTN7bVT8VQuLByrszVQkXa_v9A=s64",
      "userId": "05827811772710046588"
     },
     "user_tz": -60
    },
    "id": "GwMd4rxIuQ-A",
    "outputId": "dfc530d5-9e87-44b8-ef1e-7422143b524c"
   },
   "outputs": [],
   "source": [
    "df_dataset = df_dataset.sample(frac=1)"
   ]
  },
  {
   "cell_type": "code",
   "execution_count": 133,
   "metadata": {},
   "outputs": [],
   "source": [
    "df_dataset[[\"class\", \"mfcc\"]].to_json(\"data/processed/dataset.json\", orient=\"records\", double_precision=3)"
   ]
  }
 ],
 "metadata": {
  "colab": {
   "collapsed_sections": [],
   "name": "rosa.ipynb",
   "provenance": []
  },
  "kernelspec": {
   "display_name": "Python 3",
   "language": "python",
   "name": "python3"
  },
  "language_info": {
   "codemirror_mode": {
    "name": "ipython",
    "version": 3
   },
   "file_extension": ".py",
   "mimetype": "text/x-python",
   "name": "python",
   "nbconvert_exporter": "python",
   "pygments_lexer": "ipython3",
   "version": "3.7.1"
  }
 },
 "nbformat": 4,
 "nbformat_minor": 2
}
