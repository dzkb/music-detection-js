{
 "cells": [
  {
   "cell_type": "code",
   "execution_count": 8,
   "metadata": {},
   "outputs": [
    {
     "ename": "ModuleNotFoundError",
     "evalue": "No module named 'librosa'",
     "output_type": "error",
     "traceback": [
      "\u001b[1;31m---------------------------------------------------------------------------\u001b[0m",
      "\u001b[1;31mModuleNotFoundError\u001b[0m                       Traceback (most recent call last)",
      "\u001b[1;32m<ipython-input-8-99596c9f4e3d>\u001b[0m in \u001b[0;36m<module>\u001b[1;34m()\u001b[0m\n\u001b[0;32m      3\u001b[0m \u001b[1;32mfrom\u001b[0m \u001b[0mpathlib\u001b[0m \u001b[1;32mimport\u001b[0m \u001b[0mPath\u001b[0m\u001b[1;33m\u001b[0m\u001b[0m\n\u001b[0;32m      4\u001b[0m \u001b[1;33m\u001b[0m\u001b[0m\n\u001b[1;32m----> 5\u001b[1;33m \u001b[1;32mimport\u001b[0m \u001b[0mlibrosa\u001b[0m\u001b[1;33m\u001b[0m\u001b[0m\n\u001b[0m\u001b[0;32m      6\u001b[0m \u001b[1;32mimport\u001b[0m \u001b[0mpandas\u001b[0m \u001b[1;32mas\u001b[0m \u001b[0mpd\u001b[0m\u001b[1;33m\u001b[0m\u001b[0m\n\u001b[0;32m      7\u001b[0m \u001b[1;32mimport\u001b[0m \u001b[0mnumpy\u001b[0m \u001b[1;32mas\u001b[0m \u001b[0mnp\u001b[0m\u001b[1;33m\u001b[0m\u001b[0m\n",
      "\u001b[1;31mModuleNotFoundError\u001b[0m: No module named 'librosa'"
     ]
    }
   ],
   "source": [
    "import os\n",
    "\n",
    "from pathlib import Path\n",
    "\n",
    "import librosa\n",
    "import pandas as pd\n",
    "import numpy as np\n",
    "import tensorflow as tf"
   ]
  },
  {
   "cell_type": "code",
   "execution_count": null,
   "metadata": {},
   "outputs": [],
   "source": [
    "data_root = \"./vids1/\"\n",
    "\n",
    "dirs = os.listdir(data_root)\n",
    "\n",
    "data_files = {\n",
    "    class_: os.listdir(Path(data_root, class_)) for class_ in dirs\n",
    "}\n",
    "\n",
    "data_contents = {\n",
    "    k: [] for k in data_files.keys()\n",
    "}"
   ]
  },
  {
   "cell_type": "code",
   "execution_count": null,
   "metadata": {},
   "outputs": [],
   "source": [
    "dataset = {\n",
    "    \"class\": [],\n",
    "    \"filename\": [],\n",
    "    \"chunk\": [],\n",
    "    \"y\": [],\n",
    "    \"sr\": []\n",
    "}\n",
    "\n",
    "def split_by_seconds(dataset, root, file):\n",
    "    class_ = root.split(\"/\")[-1]\n",
    "    y, sr = librosa.load(Path(root, file))\n",
    "    \n",
    "    n_seconds = y // sr\n",
    "    for i in range(n_seconds):\n",
    "        y_sample = y[i * sr : (i+1) * sr]\n",
    "        dataset[\"class\"].append(1 if class_ == \"muzyka\" else 0)\n",
    "        dataset[\"filename\"].append(file)\n",
    "        dataset[\"chunk\"].append(i)\n",
    "        dataset[\"y\"].append(y_sample)\n",
    "        dataset[\"sr\"].append(sr)\n",
    "\n",
    "for root, dirs, files in os.walk(data_root):\n",
    "    for file in files:\n",
    "        split_by_seconds(dataset, root, file)\n",
    "        \n",
    "df_dataset = pd.DataFrame(dataset)"
   ]
  },
  {
   "cell_type": "code",
   "execution_count": null,
   "metadata": {},
   "outputs": [],
   "source": [
    "def extract_mfcc(row):\n",
    "    return librosa.feature.mfcc(y=row[\"y\"], sr=row[\"sr\"])\n",
    "\n",
    "def extract_beat(row):\n",
    "    return librosa.beat.beat_track(y=row[\"y\"], sr=row[\"sr\"])\n",
    "\n",
    "def extract_rmse(row):\n",
    "    return librosa.feature.rms(y=row[\"y\"])\n",
    "\n",
    "df_dataset[\"mfcc\"] = df_dataset.apply(extract_mfcc, axis=1)\n",
    "df_dataset[\"beats\"] = df_dataset.apply(extract_beat, axis=1)\n",
    "df_dataset[\"rms\"] = df_dataset.apply(extract_rmse, axis=1)"
   ]
  },
  {
   "cell_type": "code",
   "execution_count": null,
   "metadata": {},
   "outputs": [],
   "source": [
    "df_dataset"
   ]
  },
  {
   "cell_type": "code",
   "execution_count": null,
   "metadata": {},
   "outputs": [],
   "source": [
    "df_dataset.loc[0, \"mfcc\"].shape"
   ]
  },
  {
   "cell_type": "code",
   "execution_count": null,
   "metadata": {},
   "outputs": [],
   "source": [
    "X, y = np.stack(df_dataset[\"mfcc\"]), df_dataset[\"class\"].to_numpy()"
   ]
  },
  {
   "cell_type": "code",
   "execution_count": null,
   "metadata": {},
   "outputs": [],
   "source": [
    "model = tf.keras.models.Sequential([\n",
    "  tf.keras.layers.Flatten(input_shape=(20, 44)),\n",
    "  tf.keras.layers.Dense(128, activation='relu'),\n",
    "  tf.keras.layers.Dropout(0.2),\n",
    "  tf.keras.layers.Dense(1)\n",
    "])\n",
    "\n",
    "loss_fn = tf.keras.losses.BinaryCrossentropy(from_logits=True)\n",
    "\n",
    "model.compile(optimizer='adam',\n",
    "              loss=loss_fn,\n",
    "              metrics=['accuracy'])"
   ]
  },
  {
   "cell_type": "code",
   "execution_count": null,
   "metadata": {},
   "outputs": [],
   "source": [
    "model(X[:1]).numpy()"
   ]
  },
  {
   "cell_type": "code",
   "execution_count": null,
   "metadata": {},
   "outputs": [],
   "source": [
    "model.fit(X, y, epochs=5)"
   ]
  },
  {
   "cell_type": "code",
   "execution_count": null,
   "metadata": {},
   "outputs": [],
   "source": []
  }
 ],
 "metadata": {
  "kernelspec": {
   "display_name": "Python 3",
   "language": "python",
   "name": "python3"
  },
  "language_info": {
   "codemirror_mode": {
    "name": "ipython",
    "version": 3
   },
   "file_extension": ".py",
   "mimetype": "text/x-python",
   "name": "python",
   "nbconvert_exporter": "python",
   "pygments_lexer": "ipython3",
   "version": "3.6.5"
  }
 },
 "nbformat": 4,
 "nbformat_minor": 4
}
